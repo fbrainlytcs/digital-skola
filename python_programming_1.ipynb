{
  "nbformat": 4,
  "nbformat_minor": 0,
  "metadata": {
    "colab": {
      "provenance": [],
      "authorship_tag": "ABX9TyPHi4NVaNywoh1A5/yqFTN/",
      "include_colab_link": true
    },
    "kernelspec": {
      "name": "python3",
      "display_name": "Python 3"
    },
    "language_info": {
      "name": "python"
    }
  },
  "cells": [
    {
      "cell_type": "markdown",
      "metadata": {
        "id": "view-in-github",
        "colab_type": "text"
      },
      "source": [
        "<a href=\"https://colab.research.google.com/github/fbrainlytcs/digital-skola/blob/main/python_programming_1.ipynb\" target=\"_parent\"><img src=\"https://colab.research.google.com/assets/colab-badge.svg\" alt=\"Open In Colab\"/></a>"
      ]
    },
    {
      "cell_type": "markdown",
      "source": [
        "# Intro to Python"
      ],
      "metadata": {
        "id": "NxnM_Rtvypi9"
      }
    },
    {
      "cell_type": "markdown",
      "source": [
        "## Print Command"
      ],
      "metadata": {
        "id": "FYaKDVhFyvdu"
      }
    },
    {
      "cell_type": "markdown",
      "source": [],
      "metadata": {
        "id": "8l4SDWxsy6Pw"
      }
    },
    {
      "cell_type": "code",
      "execution_count": null,
      "metadata": {
        "colab": {
          "base_uri": "https://localhost:8080/"
        },
        "id": "by4g9Y7cxuke",
        "outputId": "5112d5b1-36e6-45da-9382-62a000572280"
      },
      "outputs": [
        {
          "output_type": "stream",
          "name": "stdout",
          "text": [
            "kluivert\n",
            "32\n"
          ]
        }
      ],
      "source": [
        "print(\"kluivert\")\n",
        "print(32)"
      ]
    },
    {
      "cell_type": "code",
      "source": [
        "# tes broo\n",
        "print(\"yoo mama\")"
      ],
      "metadata": {
        "colab": {
          "base_uri": "https://localhost:8080/"
        },
        "id": "zLUA_wVMz1Am",
        "outputId": "5f75749f-3186-4936-a3e8-610cc9b66b76"
      },
      "execution_count": null,
      "outputs": [
        {
          "output_type": "stream",
          "name": "stdout",
          "text": [
            "yoo mama\n"
          ]
        }
      ]
    }
  ]
}